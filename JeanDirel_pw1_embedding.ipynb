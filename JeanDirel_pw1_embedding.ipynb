{
  "cells": [
    {
      "cell_type": "markdown",
      "id": "9f123e99-cb32-4dee-a269-05ffca62a19e",
      "metadata": {
        "id": "9f123e99-cb32-4dee-a269-05ffca62a19e"
      },
      "source": [
        "<a target=\"_blank\" href=\"https://colab.research.google.com/github/PaulLerner/aivancity_nlp/blob/main/pw1_embedding.ipynb\">\n",
        "  <img src=\"https://colab.research.google.com/assets/colab-badge.svg\" alt=\"Open In Colab\"/>\n",
        "</a>"
      ]
    },
    {
      "cell_type": "markdown",
      "id": "ebec84ad-2e31-4cc2-8bb5-63c07c3e0006",
      "metadata": {
        "id": "ebec84ad-2e31-4cc2-8bb5-63c07c3e0006"
      },
      "source": [
        "# Part 0 - Installation and imports\n",
        "\n",
        "Hit `Ctrl+S` to save a copy of the Colab notebook to your drive\n",
        "\n",
        "Run on Google Colab GPU:\n",
        "- Connect\n",
        "- Modify execution\n",
        "- GPU\n",
        "\n",
        "![image.png](https://paullerner.github.io/aivancity_nlp/_static/colab_gpu.png)"
      ]
    },
    {
      "cell_type": "code",
      "execution_count": null,
      "id": "f866c673-b057-4723-8798-5fdc7ca353bb",
      "metadata": {
        "id": "f866c673-b057-4723-8798-5fdc7ca353bb"
      },
      "outputs": [],
      "source": [
        "%pip install datasets"
      ]
    },
    {
      "cell_type": "code",
      "execution_count": null,
      "id": "051327d8-5e3b-4702-9188-3edba4f32bc6",
      "metadata": {
        "id": "051327d8-5e3b-4702-9188-3edba4f32bc6"
      },
      "outputs": [],
      "source": [
        "import torch"
      ]
    },
    {
      "cell_type": "code",
      "execution_count": null,
      "id": "c5cc3bb3-f45d-4adc-8ab6-c00e7a466c4f",
      "metadata": {
        "id": "c5cc3bb3-f45d-4adc-8ab6-c00e7a466c4f"
      },
      "outputs": [],
      "source": [
        "assert torch.cuda.is_available(), \"Connect to GPU and try again (ask teacher for help)\""
      ]
    },
    {
      "cell_type": "markdown",
      "id": "a553143f-37e5-4218-947d-0a92cb906d53",
      "metadata": {
        "id": "a553143f-37e5-4218-947d-0a92cb906d53"
      },
      "source": [
        "# Part 1 - Training Skipgram with negative sampling\n",
        "\n",
        "(aka word2vec)\n",
        "Mikolov, T., Sutskever, I., Chen, K., Corrado, G. S., & Dean, J. (2013). [Distributed Representations of Words and Phrases and their Compositionality](https://papers.neurips.cc/paper/2013/hash/9aa42b31882ec039965f3c4923ce901b-Abstract.html). Advances in Neural Information Processing Systems, 26.\n",
        "\n",
        "Eisenstein, J. (2018). [Natural Language Processing](https://csunibo.github.io/natural-language-processing/books/eisenstein-natural-language-processing.pdf) Chapter 14.5\n",
        "\n",
        "Not to be confused with Softmax Skipgram\n",
        "\n"
      ]
    },
    {
      "cell_type": "markdown",
      "id": "bf147ecd-75cf-4c1f-ac5a-06b9a344dfa1",
      "metadata": {
        "id": "bf147ecd-75cf-4c1f-ac5a-06b9a344dfa1"
      },
      "source": [
        "## Training data"
      ]
    },
    {
      "cell_type": "code",
      "execution_count": null,
      "id": "16231fca-b80a-479d-9b93-27c5f38f61fe",
      "metadata": {
        "id": "16231fca-b80a-479d-9b93-27c5f38f61fe",
        "outputId": "4180dd03-e893-491f-b1b1-697d627914ee"
      },
      "outputs": [
        {
          "data": {
            "text/plain": [
              "10000"
            ]
          },
          "execution_count": 55,
          "metadata": {},
          "output_type": "execute_result"
        }
      ],
      "source": [
        "from datasets import load_dataset, DatasetDict\n",
        "\n",
        "texts = load_dataset('wikitext', 'wikitext-103-raw-v1')['train'].shuffle(seed=1111).select(range(10000))[\"text\"]\n",
        "len(texts)"
      ]
    },
    {
      "cell_type": "markdown",
      "id": "1ad07456-57b6-4389-901b-307d8444fc2c",
      "metadata": {
        "id": "1ad07456-57b6-4389-901b-307d8444fc2c"
      },
      "source": [
        "### Tokenization\n",
        "\n",
        "Unsing [`re`](https://docs.python.org/3/library/re.html), tokenize the text in a `List[str]` to keep only words, no punctuation or space. We will also preprocess the text to make it lowercase, so our model is *case-insensitive*\n",
        "\n",
        "If you don't know anything about regex, a good place to start is https://regex101.com/"
      ]
    },
    {
      "cell_type": "code",
      "execution_count": null,
      "id": "61631a21-b2f1-495b-ab21-1ef92d08d62d",
      "metadata": {
        "id": "61631a21-b2f1-495b-ab21-1ef92d08d62d"
      },
      "outputs": [],
      "source": [
        "import re"
      ]
    },
    {
      "cell_type": "code",
      "execution_count": null,
      "id": "36601dd5-fe46-4fd9-b41a-3bc9bb49d5ce",
      "metadata": {
        "scrolled": true,
        "id": "36601dd5-fe46-4fd9-b41a-3bc9bb49d5ce",
        "outputId": "1d26ce6e-8761-4c57-a9eb-6b8a98e9c1e2"
      },
      "outputs": [
        {
          "data": {
            "text/plain": [
              "\" Following the death of Finan , bishop of Lindisfarne , Alhfrith of Deira , in collusion with Wilfred of York , Agilbert of Wessex and others , were determined to persuade Oswiu to rule in favour of the Roman rite of Christianity within the kingdoms over which he had imperium . The case was debated in Oswiu 's presence at the Synod of Whitby in 664 , with Colmán , Hild and Cedd defending the Celtic rite and the tradition inherited from Aidan , and Wilifred speaking for the Roman position . The Roman cause prevailed and the former division of ecclesiastical authorities was set aside . Those who could not accept it , including Colmán , departed elsewhere . \\n\""
            ]
          },
          "execution_count": 253,
          "metadata": {},
          "output_type": "execute_result"
        }
      ],
      "source": [
        "texts[0]"
      ]
    },
    {
      "cell_type": "code",
      "execution_count": null,
      "id": "8e8c7309-5ead-44df-8b2b-5c58ee0b14a5",
      "metadata": {
        "scrolled": true,
        "id": "8e8c7309-5ead-44df-8b2b-5c58ee0b14a5",
        "outputId": "06edb38b-4592-4fb2-80aa-9de68ccde2ce"
      },
      "outputs": [
        {
          "data": {
            "text/plain": [
              "['following',\n",
              " 'the',\n",
              " 'death',\n",
              " 'of',\n",
              " 'finan',\n",
              " 'bishop',\n",
              " 'of',\n",
              " 'lindisfarne',\n",
              " 'alhfrith',\n",
              " 'of',\n",
              " 'deira',\n",
              " 'in',\n",
              " 'collusion',\n",
              " 'with',\n",
              " 'wilfred',\n",
              " 'of',\n",
              " 'york',\n",
              " 'agilbert',\n",
              " 'of',\n",
              " 'wessex',\n",
              " 'and',\n",
              " 'others',\n",
              " 'were',\n",
              " 'determined',\n",
              " 'to',\n",
              " 'persuade',\n",
              " 'oswiu',\n",
              " 'to',\n",
              " 'rule',\n",
              " 'in',\n",
              " 'favour',\n",
              " 'of',\n",
              " 'the',\n",
              " 'roman',\n",
              " 'rite',\n",
              " 'of',\n",
              " 'christianity',\n",
              " 'within',\n",
              " 'the',\n",
              " 'kingdoms',\n",
              " 'over',\n",
              " 'which',\n",
              " 'he',\n",
              " 'had',\n",
              " 'imperium',\n",
              " 'the',\n",
              " 'case',\n",
              " 'was',\n",
              " 'debated',\n",
              " 'in',\n",
              " 'oswiu',\n",
              " 's',\n",
              " 'presence',\n",
              " 'at',\n",
              " 'the',\n",
              " 'synod',\n",
              " 'of',\n",
              " 'whitby',\n",
              " 'in',\n",
              " '664',\n",
              " 'with',\n",
              " 'colmán',\n",
              " 'hild',\n",
              " 'and',\n",
              " 'cedd',\n",
              " 'defending',\n",
              " 'the',\n",
              " 'celtic',\n",
              " 'rite',\n",
              " 'and',\n",
              " 'the',\n",
              " 'tradition',\n",
              " 'inherited',\n",
              " 'from',\n",
              " 'aidan',\n",
              " 'and',\n",
              " 'wilifred',\n",
              " 'speaking',\n",
              " 'for',\n",
              " 'the',\n",
              " 'roman',\n",
              " 'position',\n",
              " 'the',\n",
              " 'roman',\n",
              " 'cause',\n",
              " 'prevailed',\n",
              " 'and',\n",
              " 'the',\n",
              " 'former',\n",
              " 'division',\n",
              " 'of',\n",
              " 'ecclesiastical',\n",
              " 'authorities',\n",
              " 'was',\n",
              " 'set',\n",
              " 'aside',\n",
              " 'those',\n",
              " 'who',\n",
              " 'could',\n",
              " 'not',\n",
              " 'accept',\n",
              " 'it',\n",
              " 'including',\n",
              " 'colmán',\n",
              " 'departed',\n",
              " 'elsewhere']"
            ]
          },
          "execution_count": 254,
          "metadata": {},
          "output_type": "execute_result"
        }
      ],
      "source": [
        "# expected results"
      ]
    },
    {
      "cell_type": "markdown",
      "id": "6627db1c-2931-48a4-9516-d87a8ee51562",
      "metadata": {
        "id": "6627db1c-2931-48a4-9516-d87a8ee51562"
      },
      "source": [
        "### Vocabulary\n",
        "\n",
        "\n",
        "\n",
        "Using `collections.Counter`, construct the vocabulary by tokenizing every text in the dataset and keeping only the $V$ most frequent words. Let's set $V=1000$ to start\n",
        "\n",
        "Then use this vocabulary to vectorize examples, assigning integer identifiers to words (from $0$ to $V-1$)"
      ]
    },
    {
      "cell_type": "code",
      "execution_count": null,
      "id": "a15b7590-30ab-4e39-8e00-800875ff73f9",
      "metadata": {
        "id": "a15b7590-30ab-4e39-8e00-800875ff73f9"
      },
      "outputs": [],
      "source": [
        "from collections import Counter\n",
        "V = 1000"
      ]
    },
    {
      "cell_type": "code",
      "execution_count": null,
      "id": "a3dd61a6-1350-4272-8b00-315e74997dd1",
      "metadata": {
        "id": "a3dd61a6-1350-4272-8b00-315e74997dd1",
        "outputId": "2dc61d6d-95d5-49d8-d233-8302225bb695"
      },
      "outputs": [
        {
          "data": {
            "text/plain": [
              "[('the', 35377),\n",
              " ('of', 14994),\n",
              " ('and', 13832),\n",
              " ('in', 12074),\n",
              " ('to', 11022),\n",
              " ('a', 9897),\n",
              " ('was', 5883),\n",
              " ('on', 4257),\n",
              " ('s', 4221),\n",
              " ('as', 3989)]"
            ]
          },
          "execution_count": 257,
          "metadata": {},
          "output_type": "execute_result"
        }
      ],
      "source": [
        "# expected results\n",
        "occurrences.most_common(10)"
      ]
    },
    {
      "cell_type": "code",
      "execution_count": null,
      "id": "581f93f2-528f-42be-8f80-55df6ff6f841",
      "metadata": {
        "id": "581f93f2-528f-42be-8f80-55df6ff6f841",
        "outputId": "55279189-7ab3-44bc-8041-148965a9d284"
      },
      "outputs": [
        {
          "data": {
            "text/plain": [
              "39030"
            ]
          },
          "execution_count": 258,
          "metadata": {},
          "output_type": "execute_result"
        }
      ],
      "source": [
        "# expected results\n",
        "len(occurrences)"
      ]
    },
    {
      "cell_type": "code",
      "execution_count": null,
      "id": "520b2564-489e-4cb7-8ab2-26c6d6e54794",
      "metadata": {
        "scrolled": true,
        "id": "520b2564-489e-4cb7-8ab2-26c6d6e54794",
        "outputId": "f17928d5-a389-4c25-abf6-01c8aac6784b"
      },
      "outputs": [
        {
          "data": {
            "text/plain": [
              "[120,\n",
              " 0,\n",
              " 251,\n",
              " 1,\n",
              " 1,\n",
              " 1,\n",
              " 3,\n",
              " 11,\n",
              " 1,\n",
              " 235,\n",
              " 1,\n",
              " 2,\n",
              " 509,\n",
              " 20,\n",
              " 4,\n",
              " 4,\n",
              " 3,\n",
              " 1,\n",
              " 0,\n",
              " 1,\n",
              " 241,\n",
              " 0,\n",
              " 56,\n",
              " 23,\n",
              " 15,\n",
              " 22,\n",
              " 0,\n",
              " 537,\n",
              " 6,\n",
              " 3,\n",
              " 8,\n",
              " 17,\n",
              " 0,\n",
              " 1,\n",
              " 3,\n",
              " 11,\n",
              " 2,\n",
              " 0,\n",
              " 2,\n",
              " 0,\n",
              " 19,\n",
              " 2,\n",
              " 10,\n",
              " 0,\n",
              " 457,\n",
              " 0,\n",
              " 2,\n",
              " 0,\n",
              " 299,\n",
              " 278,\n",
              " 1,\n",
              " 6,\n",
              " 248,\n",
              " 236,\n",
              " 39,\n",
              " 145,\n",
              " 29,\n",
              " 18,\n",
              " 106]"
            ]
          },
          "execution_count": 260,
          "metadata": {},
          "output_type": "execute_result"
        }
      ],
      "source": [
        "# integer indentifiers of the above example: texts[0]"
      ]
    },
    {
      "cell_type": "markdown",
      "id": "5aee6695-7011-4019-9b6c-fb4401d90177",
      "metadata": {
        "id": "5aee6695-7011-4019-9b6c-fb4401d90177"
      },
      "source": [
        "### Self-supervision: input and targets from raw text\n",
        "\n",
        "using `window_size=2`, iterate through the tokenized data and collect indices of target word $w$ and positive context words $c_+$\n",
        "\n",
        "After debugging, apply this function to all text in dataset"
      ]
    },
    {
      "cell_type": "code",
      "execution_count": null,
      "id": "625cc5f0-2a37-41fc-bbfe-19d8408650a4",
      "metadata": {
        "id": "625cc5f0-2a37-41fc-bbfe-19d8408650a4"
      },
      "outputs": [],
      "source": [
        "word_contexts = []\n",
        "window_size=2"
      ]
    },
    {
      "cell_type": "code",
      "execution_count": null,
      "id": "61302748-ee19-4428-9fa3-d43da0d45fb7",
      "metadata": {
        "scrolled": true,
        "id": "61302748-ee19-4428-9fa3-d43da0d45fb7",
        "outputId": "15ed3632-643c-4662-b2bb-b9d773f96e1c"
      },
      "outputs": [
        {
          "data": {
            "text/plain": [
              "[(251, 120),\n",
              " (251, 0),\n",
              " (251, 1),\n",
              " (251, 1),\n",
              " (1, 0),\n",
              " (1, 251),\n",
              " (1, 1),\n",
              " (1, 1),\n",
              " (1, 251),\n",
              " (1, 1)]"
            ]
          },
          "execution_count": 267,
          "metadata": {},
          "output_type": "execute_result"
        }
      ],
      "source": [
        "word_contexts[:10]"
      ]
    },
    {
      "cell_type": "code",
      "execution_count": null,
      "id": "c1942c04-9391-4162-a92e-209ab65550dd",
      "metadata": {
        "id": "c1942c04-9391-4162-a92e-209ab65550dd",
        "outputId": "ef9a4566-d60d-4182-d006-e4898a6d0672"
      },
      "outputs": [
        {
          "data": {
            "text/plain": [
              "1155856"
            ]
          },
          "execution_count": 268,
          "metadata": {},
          "output_type": "execute_result"
        }
      ],
      "source": [
        "len(word_contexts)"
      ]
    },
    {
      "cell_type": "markdown",
      "id": "d0773b31-bd58-46fb-b22e-541810ed66b5",
      "metadata": {
        "id": "d0773b31-bd58-46fb-b22e-541810ed66b5"
      },
      "source": [
        "### DataLoader\n",
        "\n",
        "`torch.utils.data.DataLoader` provides a convenient interface for batching and randomly sampling data.\n",
        "\n",
        "use `batch_size=1024` to wrap the above generate data\n",
        "\n",
        "and `drop_last=True` so that the batch has always the same size\n"
      ]
    },
    {
      "cell_type": "code",
      "execution_count": null,
      "id": "e156a282-b759-484b-847a-be5a0fe3af06",
      "metadata": {
        "id": "e156a282-b759-484b-847a-be5a0fe3af06"
      },
      "outputs": [],
      "source": [
        "batch_size = 1024"
      ]
    },
    {
      "cell_type": "code",
      "execution_count": null,
      "id": "830a9bcb-69c6-4169-a7db-befbbce3029c",
      "metadata": {
        "id": "830a9bcb-69c6-4169-a7db-befbbce3029c"
      },
      "outputs": [],
      "source": [
        "loader = torch.utils.data.DataLoader(word_contexts, batch_size=batch_size, shuffle=True, drop_last=True)"
      ]
    },
    {
      "cell_type": "code",
      "execution_count": null,
      "id": "955ccdd7-f382-4fee-8289-46ddc5251850",
      "metadata": {
        "id": "955ccdd7-f382-4fee-8289-46ddc5251850"
      },
      "outputs": [],
      "source": [
        "for words, contexts in loader:\n",
        "    break"
      ]
    },
    {
      "cell_type": "code",
      "execution_count": null,
      "id": "b96ed0e6-a29d-407c-a210-4629f1190351",
      "metadata": {
        "id": "b96ed0e6-a29d-407c-a210-4629f1190351",
        "outputId": "f2188e3e-a8f4-4de0-e06d-1c23eae66703"
      },
      "outputs": [
        {
          "data": {
            "text/plain": [
              "tensor([ 24, 381,   4,  ...,   1,   8,   1])"
            ]
          },
          "execution_count": 312,
          "metadata": {},
          "output_type": "execute_result"
        }
      ],
      "source": [
        "words"
      ]
    },
    {
      "cell_type": "code",
      "execution_count": null,
      "id": "6aa288ce-8aec-4724-88c1-d5488888f3e3",
      "metadata": {
        "id": "6aa288ce-8aec-4724-88c1-d5488888f3e3",
        "outputId": "ccd34bdf-373a-42f3-be9d-e667ad04fbbe"
      },
      "outputs": [
        {
          "data": {
            "text/plain": [
              "(torch.Size([1024]), torch.Size([1024]))"
            ]
          },
          "execution_count": 314,
          "metadata": {},
          "output_type": "execute_result"
        }
      ],
      "source": [
        "words.shape, contexts.shape"
      ]
    },
    {
      "cell_type": "code",
      "execution_count": null,
      "id": "de7dd765-c85a-47dc-beeb-99b9ac66ef7e",
      "metadata": {
        "id": "de7dd765-c85a-47dc-beeb-99b9ac66ef7e",
        "outputId": "702eadc0-32f3-4f94-8d13-d70363d13c42"
      },
      "outputs": [
        {
          "data": {
            "text/plain": [
              "torch.Size([64, 11])"
            ]
          },
          "execution_count": 280,
          "metadata": {},
          "output_type": "execute_result"
        }
      ],
      "source": [
        "contexts.shape"
      ]
    },
    {
      "cell_type": "markdown",
      "id": "e627359d-0a44-4dd9-923b-be039f9c9382",
      "metadata": {
        "id": "e627359d-0a44-4dd9-923b-be039f9c9382"
      },
      "source": [
        "### Negative examples\n",
        "\n",
        "Using `torch.randint` draw $k=10$ random negative examples from the vocabulary for each target word $w$\n"
      ]
    },
    {
      "cell_type": "code",
      "execution_count": null,
      "id": "96f43712-f97f-49cc-858e-cfafad932a2a",
      "metadata": {
        "scrolled": true,
        "id": "96f43712-f97f-49cc-858e-cfafad932a2a"
      },
      "outputs": [],
      "source": [
        "\n",
        "k=10"
      ]
    },
    {
      "cell_type": "code",
      "execution_count": null,
      "id": "8f8cee66-1b3b-49a7-96af-b7db6264efc6",
      "metadata": {
        "id": "8f8cee66-1b3b-49a7-96af-b7db6264efc6",
        "outputId": "0eaaa8a3-6ca7-440b-e355-381490f2145d"
      },
      "outputs": [
        {
          "data": {
            "text/plain": [
              "torch.Size([1024, 10])"
            ]
          },
          "execution_count": 316,
          "metadata": {},
          "output_type": "execute_result"
        }
      ],
      "source": [
        "negatives.shape"
      ]
    },
    {
      "cell_type": "markdown",
      "id": "ef3135e8-cdbf-4ab9-9e16-508e794ddbee",
      "metadata": {
        "id": "ef3135e8-cdbf-4ab9-9e16-508e794ddbee"
      },
      "source": [
        "Concatenate the indices of negatives and positives examples but keep track of the labels (`1.0` for positive, `0.0` for negative)"
      ]
    },
    {
      "cell_type": "code",
      "execution_count": null,
      "id": "1f518ce1-a72e-45c9-89aa-5a9f01672662",
      "metadata": {
        "id": "1f518ce1-a72e-45c9-89aa-5a9f01672662",
        "outputId": "50dfbc72-7d31-411d-f718-8ab3a036b46c"
      },
      "outputs": [
        {
          "data": {
            "text/plain": [
              "torch.Size([1024, 11])"
            ]
          },
          "execution_count": 318,
          "metadata": {},
          "output_type": "execute_result"
        }
      ],
      "source": [
        "labels.shape"
      ]
    },
    {
      "cell_type": "code",
      "execution_count": null,
      "id": "cefe5646-a3f2-4c64-b8d6-b5031a1f52cd",
      "metadata": {
        "id": "cefe5646-a3f2-4c64-b8d6-b5031a1f52cd",
        "outputId": "43a46723-8ce9-4589-acc0-e05962cade96"
      },
      "outputs": [
        {
          "data": {
            "text/plain": [
              "torch.Size([1024, 11])"
            ]
          },
          "execution_count": 320,
          "metadata": {},
          "output_type": "execute_result"
        }
      ],
      "source": [
        "contexts.shape"
      ]
    },
    {
      "cell_type": "markdown",
      "id": "911273e0-2e92-4189-86cf-dc8991fe2694",
      "metadata": {
        "id": "911273e0-2e92-4189-86cf-dc8991fe2694"
      },
      "source": [
        "## Model\n",
        "\n",
        "\n",
        "![diagram](https://paullerner.github.io/aivancity_nlp/_static/skipgram.png)\n",
        "\n",
        "Using `nn.Embedding`, initialize the two word embedding matrices, $W$ (word) and $C$ (context), of shape $(V, d)$. Let's see $d=100$ for now."
      ]
    },
    {
      "cell_type": "code",
      "execution_count": null,
      "id": "b1faf576-d015-4d7f-acc7-0e0e0a0c1f4b",
      "metadata": {
        "id": "b1faf576-d015-4d7f-acc7-0e0e0a0c1f4b"
      },
      "outputs": [],
      "source": [
        "d=100"
      ]
    },
    {
      "cell_type": "code",
      "execution_count": null,
      "id": "a43883a9-a999-437a-9a8e-60c4a95ade24",
      "metadata": {
        "id": "a43883a9-a999-437a-9a8e-60c4a95ade24"
      },
      "outputs": [],
      "source": [
        "import torch.nn as nn"
      ]
    },
    {
      "cell_type": "code",
      "execution_count": null,
      "id": "b73d4819-769c-4280-9a68-6877e9ba848b",
      "metadata": {
        "id": "b73d4819-769c-4280-9a68-6877e9ba848b",
        "outputId": "f70cffe3-bb80-4789-91da-9538b1314433"
      },
      "outputs": [
        {
          "data": {
            "text/plain": [
              "torch.Size([1000, 100])"
            ]
          },
          "execution_count": 288,
          "metadata": {},
          "output_type": "execute_result"
        }
      ],
      "source": [
        "W.weight.shape"
      ]
    },
    {
      "cell_type": "markdown",
      "id": "d79a8823-34bb-4bd7-ad8c-46cc3c4bc835",
      "metadata": {
        "id": "d79a8823-34bb-4bd7-ad8c-46cc3c4bc835"
      },
      "source": [
        "You can then call these embeddings by passing them the tokens indices computed above to get the vectors"
      ]
    },
    {
      "cell_type": "code",
      "execution_count": null,
      "id": "38c41c5c-ea7e-42c5-a109-91c558382142",
      "metadata": {
        "id": "38c41c5c-ea7e-42c5-a109-91c558382142",
        "outputId": "a378f234-b7bb-4cc2-a06c-6bddf5e76a31"
      },
      "outputs": [
        {
          "data": {
            "text/plain": [
              "torch.Size([64, 100])"
            ]
          },
          "execution_count": 289,
          "metadata": {},
          "output_type": "execute_result"
        }
      ],
      "source": [
        "W(words).shape"
      ]
    },
    {
      "cell_type": "code",
      "execution_count": null,
      "id": "1bc11a13-d87c-47b3-acdc-27779e05867f",
      "metadata": {
        "id": "1bc11a13-d87c-47b3-acdc-27779e05867f",
        "outputId": "13e978ca-9579-4ff8-b8a0-3ede13aa6f69"
      },
      "outputs": [
        {
          "data": {
            "text/plain": [
              "torch.Size([64, 11, 100])"
            ]
          },
          "execution_count": 290,
          "metadata": {},
          "output_type": "execute_result"
        }
      ],
      "source": [
        "C(contexts).shape"
      ]
    },
    {
      "cell_type": "markdown",
      "id": "b3cabe5e-2053-4ec7-be7d-74d2940cf2fb",
      "metadata": {
        "id": "b3cabe5e-2053-4ec7-be7d-74d2940cf2fb"
      },
      "source": [
        "## Probability of similarity (sigmoid)\n",
        "$$P(+ | w,c) = \\sigma(c \\cdot w) = \\frac{1}{1+\\exp(-c \\cdot w)}$$\n",
        "\n",
        "\n",
        "Compute the similarity $c \\cdot w$. No need to compute Sigmoid as it is integrated in the loss function (see below)."
      ]
    },
    {
      "cell_type": "code",
      "execution_count": null,
      "id": "9143059f-1a8b-4a1c-be05-0df46d272c83",
      "metadata": {
        "id": "9143059f-1a8b-4a1c-be05-0df46d272c83",
        "outputId": "8a889ff5-de2f-4007-af6c-7c7d4ffdaca4"
      },
      "outputs": [
        {
          "data": {
            "text/plain": [
              "torch.Size([64, 11])"
            ]
          },
          "execution_count": 293,
          "metadata": {},
          "output_type": "execute_result"
        }
      ],
      "source": [
        "similarities.shape"
      ]
    },
    {
      "cell_type": "markdown",
      "id": "c7dc0718-65da-4205-b413-82378cad45d6",
      "metadata": {
        "id": "c7dc0718-65da-4205-b413-82378cad45d6"
      },
      "source": [
        "\n",
        "\n",
        "## Loss: Binary Cross Entropy\n",
        "\n",
        "Compute the loss using `nn.BCEWithLogitsLoss`\n",
        "\n",
        "$$- \\left(\\log\\sigma(c_+ \\cdot w) + \\sum_{i=1}^{k} \\log\\sigma(-c_i \\cdot w)\\right) $$\n",
        "\n",
        "You will need to reshape similarities and labels"
      ]
    },
    {
      "cell_type": "code",
      "execution_count": null,
      "id": "4f2bd3ba-e286-42e5-9836-7b7bc368702b",
      "metadata": {
        "id": "4f2bd3ba-e286-42e5-9836-7b7bc368702b",
        "outputId": "9949c6eb-773d-45a3-e1b2-4281538c030f"
      },
      "outputs": [
        {
          "data": {
            "text/plain": [
              "torch.Size([704])"
            ]
          },
          "execution_count": 294,
          "metadata": {},
          "output_type": "execute_result"
        }
      ],
      "source": [
        "similarities.reshape(-1).shape"
      ]
    },
    {
      "cell_type": "code",
      "execution_count": null,
      "id": "b163008a-7bb0-4035-b331-07fb6df0f63e",
      "metadata": {
        "id": "b163008a-7bb0-4035-b331-07fb6df0f63e",
        "outputId": "3759c1fc-ebd0-4622-8313-3ddb138bc277"
      },
      "outputs": [
        {
          "data": {
            "text/plain": [
              "tensor(3.9763, grad_fn=<BinaryCrossEntropyWithLogitsBackward0>)"
            ]
          },
          "execution_count": 296,
          "metadata": {},
          "output_type": "execute_result"
        }
      ],
      "source": []
    },
    {
      "cell_type": "markdown",
      "id": "7e89599c-bd31-431b-914c-04c04643f790",
      "metadata": {
        "id": "7e89599c-bd31-431b-914c-04c04643f790"
      },
      "source": [
        "## Training loop\n",
        "\n",
        "Now that you checked everything is working, pack everything above in a `nn.Module` and training loop\n",
        "\n",
        "Ensure that everything is on GPU by calling `.cuda()` or passing `device=\"cuda\"` on init"
      ]
    },
    {
      "cell_type": "code",
      "execution_count": null,
      "id": "914ef293-d5b3-4c23-bbe4-d7182beab234",
      "metadata": {
        "id": "914ef293-d5b3-4c23-bbe4-d7182beab234"
      },
      "outputs": [],
      "source": [
        "class Skipgram(nn.Module):\n",
        "    def __init__(self):\n",
        "        super().__init__()\n",
        "        # TODO\n",
        "        self.W =\n",
        "        self.C =\n",
        "\n",
        "    def forward(self, words, contexts):\n",
        "        # TODO\n",
        "        return similarities"
      ]
    },
    {
      "cell_type": "code",
      "execution_count": null,
      "id": "a42ed407-0f0f-48e4-8b34-0fd1439eddda",
      "metadata": {
        "id": "a42ed407-0f0f-48e4-8b34-0fd1439eddda"
      },
      "outputs": [],
      "source": [
        "%load_ext tensorboard"
      ]
    },
    {
      "cell_type": "code",
      "execution_count": null,
      "id": "cdde598d-0b4c-4428-963d-06eda0cfa526",
      "metadata": {
        "id": "cdde598d-0b4c-4428-963d-06eda0cfa526"
      },
      "outputs": [],
      "source": [
        "import torch\n",
        "from torch.utils.tensorboard import SummaryWriter\n",
        "writer = SummaryWriter(\"logs\")"
      ]
    },
    {
      "cell_type": "markdown",
      "id": "0bd6ac8e-8fc8-48c5-b818-c2c1da23f68b",
      "metadata": {
        "id": "0bd6ac8e-8fc8-48c5-b818-c2c1da23f68b"
      },
      "source": [
        "Run tensorboard before training. Refresh during training."
      ]
    },
    {
      "cell_type": "code",
      "execution_count": null,
      "id": "65fd8cc0-222a-4a92-bed6-69d03896636d",
      "metadata": {
        "id": "65fd8cc0-222a-4a92-bed6-69d03896636d"
      },
      "outputs": [],
      "source": [
        "%tensorboard --logdir logs"
      ]
    },
    {
      "cell_type": "code",
      "execution_count": null,
      "id": "44c1c18e-ea9a-49b4-bf9b-39e3ce7cdab8",
      "metadata": {
        "id": "44c1c18e-ea9a-49b4-bf9b-39e3ce7cdab8"
      },
      "outputs": [],
      "source": [
        "skipgram = Skipgram().cuda()\n",
        "\n",
        "optimizer = torch.optim.AdamW(skipgram.parameters(), lr=0.0001)\n",
        "\n",
        "batch_size = 1024\n",
        "k=10\n",
        "loader = torch.utils.data.DataLoader(word_contexts, batch_size=batch_size, shuffle=True, drop_last=True)\n",
        "\n",
        "steps = 0\n",
        "for epoch in range(10):\n",
        "    for words, contexts in loader:\n",
        "        words = words.cuda()\n",
        "        contexts = contexts.cuda()\n",
        "\n",
        "        # TODO\n",
        "        negatives =\n",
        "\n",
        "        similarities =\n",
        "\n",
        "        loss = loss_fct(similarities.reshape(-1), labels.reshape(-1))\n",
        "        writer.add_scalar(\"Loss/train\", loss.item(), steps)\n",
        "        steps+=1\n",
        "        loss.backward()\n",
        "        optimizer.step()\n"
      ]
    },
    {
      "cell_type": "markdown",
      "id": "fe0a4dd2-75b5-487b-aac1-0335616faad7",
      "metadata": {
        "id": "fe0a4dd2-75b5-487b-aac1-0335616faad7"
      },
      "source": [
        "# Part 2 - Analogies and Intrinsic Evaluation of Embeddings"
      ]
    },
    {
      "cell_type": "markdown",
      "id": "cf5cd661-0e68-464a-b56c-4ebdaacf0caf",
      "metadata": {
        "id": "cf5cd661-0e68-464a-b56c-4ebdaacf0caf"
      },
      "source": [
        "## Data and imports\n",
        "\n",
        "We'll manipulate numpy arrays instead of torch tensors from here"
      ]
    },
    {
      "cell_type": "code",
      "execution_count": null,
      "id": "21a7c56f-78db-488b-b4bd-0c4f6ea55a52",
      "metadata": {
        "id": "21a7c56f-78db-488b-b4bd-0c4f6ea55a52",
        "outputId": "0c5d9437-d221-4116-a5a7-5d6dc9ebffe9"
      },
      "outputs": [
        {
          "name": "stdout",
          "output_type": "stream",
          "text": [
            "Collecting gensim\n",
            "  Downloading gensim-4.3.3-cp310-cp310-manylinux_2_17_x86_64.manylinux2014_x86_64.whl.metadata (8.2 kB)\n",
            "Requirement already satisfied: numpy<2.0,>=1.18.5 in /home/paul/anaconda3/envs/matos/lib/python3.10/site-packages (from gensim) (1.26.3)\n",
            "Requirement already satisfied: scipy<1.14.0,>=1.7.0 in /home/paul/anaconda3/envs/matos/lib/python3.10/site-packages (from gensim) (1.11.4)\n",
            "Requirement already satisfied: smart-open>=1.8.1 in /home/paul/anaconda3/envs/matos/lib/python3.10/site-packages (from gensim) (7.0.4)\n",
            "Requirement already satisfied: wrapt in /home/paul/anaconda3/envs/matos/lib/python3.10/site-packages (from smart-open>=1.8.1->gensim) (1.16.0)\n",
            "Downloading gensim-4.3.3-cp310-cp310-manylinux_2_17_x86_64.manylinux2014_x86_64.whl (26.5 MB)\n",
            "\u001b[2K   \u001b[38;2;114;156;31m━━━━━━━━━━━━━━━━━━━━━━━━━━━━━━━━━━━━━━━━\u001b[0m \u001b[32m26.5/26.5 MB\u001b[0m \u001b[31m68.3 MB/s\u001b[0m eta \u001b[36m0:00:00\u001b[0m0m eta \u001b[36m0:00:01\u001b[0m0:01\u001b[0m:01\u001b[0m\n",
            "\u001b[?25hInstalling collected packages: gensim\n",
            "Successfully installed gensim-4.3.3\n",
            "Note: you may need to restart the kernel to use updated packages.\n"
          ]
        }
      ],
      "source": [
        "%pip install gensim"
      ]
    },
    {
      "cell_type": "code",
      "execution_count": null,
      "id": "f5e3bf6c-841f-44c2-afa8-58d29fc41d62",
      "metadata": {
        "id": "f5e3bf6c-841f-44c2-afa8-58d29fc41d62"
      },
      "outputs": [],
      "source": [
        "import torch\n",
        "import numpy as np"
      ]
    },
    {
      "cell_type": "code",
      "execution_count": null,
      "id": "05abdfac-d4e5-45a8-a732-bdce2d047e0a",
      "metadata": {
        "id": "05abdfac-d4e5-45a8-a732-bdce2d047e0a"
      },
      "outputs": [],
      "source": [
        "import gensim.downloader"
      ]
    },
    {
      "cell_type": "code",
      "execution_count": null,
      "id": "8fa73a20-8c7b-44d2-bd30-6dd86a78e394",
      "metadata": {
        "id": "8fa73a20-8c7b-44d2-bd30-6dd86a78e394"
      },
      "outputs": [],
      "source": [
        "# take the embeddings from the model you just trained\n",
        "#embeddings = skipgram.W.weight.detach().cpu().numpy()"
      ]
    },
    {
      "cell_type": "code",
      "execution_count": null,
      "id": "8d6fe4ca-3820-41f4-b65d-a07187b55880",
      "metadata": {
        "id": "8d6fe4ca-3820-41f4-b65d-a07187b55880"
      },
      "outputs": [],
      "source": [
        "# load from a model you previously trained\n",
        "#embeddings = torch.load(\"embeddings.bin\").numpy()"
      ]
    },
    {
      "cell_type": "code",
      "execution_count": null,
      "id": "87e969d7-ba55-4d46-81af-873da17a9e1d",
      "metadata": {
        "id": "87e969d7-ba55-4d46-81af-873da17a9e1d"
      },
      "outputs": [],
      "source": [
        "# load a model someone else trained, probably better than yours (more data, larger vocabulary, etc.)\n",
        "keyedvectors = gensim.downloader.load(\"word2vec-google-news-300\")\n",
        "\n",
        "embeddings = keyedvectors.vectors\n",
        "vocabulary = {word: index for index, word in enumerate(keyedvectors.index_to_key)}\n",
        "i2token = {index: word for index, word in enumerate(keyedvectors.index_to_key)}\n",
        "V = len(vocabulary)"
      ]
    },
    {
      "cell_type": "markdown",
      "id": "9366bd74-4c83-41e7-8b43-cd72c891ed5f",
      "metadata": {
        "id": "9366bd74-4c83-41e7-8b43-cd72c891ed5f"
      },
      "source": [
        "## Qualitative/playing around"
      ]
    },
    {
      "cell_type": "markdown",
      "id": "849a0671-45b5-4d8f-91aa-02b8ee7c099d",
      "metadata": {
        "id": "849a0671-45b5-4d8f-91aa-02b8ee7c099d"
      },
      "source": [
        "### visualization\n",
        "\n",
        "We'll reduce embeddings to 2D using [PCA](https://en.wikipedia.org/wiki/Principal_component_analysis) to be able to plot them\n",
        "\n",
        "What can you see from the plot? Take a look at near-synonyms like \"large\" and \"massive\", or \"interesting\" and \"fascinating\"."
      ]
    },
    {
      "cell_type": "code",
      "execution_count": null,
      "id": "8139ac6c-fdcb-442e-a810-c4db68c11b29",
      "metadata": {
        "id": "8139ac6c-fdcb-442e-a810-c4db68c11b29"
      },
      "outputs": [],
      "source": [
        "from sklearn.decomposition import PCA\n",
        "import matplotlib.pyplot as plt"
      ]
    },
    {
      "cell_type": "code",
      "execution_count": null,
      "id": "fc3d772e-296d-4f6d-af3e-0d522dc305b4",
      "metadata": {
        "id": "fc3d772e-296d-4f6d-af3e-0d522dc305b4"
      },
      "outputs": [],
      "source": [
        "pca = PCA(n_components=2)\n",
        "embeddings_2d = pca.fit_transform(embeddings)\n"
      ]
    },
    {
      "cell_type": "markdown",
      "id": "7eaecfa1-45ce-4df4-85d9-722e84ce83f4",
      "metadata": {
        "id": "7eaecfa1-45ce-4df4-85d9-722e84ce83f4"
      },
      "source": [
        "Using `plt.scatter` plot the 2D embeddings of the words in `words`. Also show the word using `plt.annotate`"
      ]
    },
    {
      "cell_type": "code",
      "execution_count": null,
      "id": "9abfd064-024b-483e-bad5-5e8ca1ff53e4",
      "metadata": {
        "id": "9abfd064-024b-483e-bad5-5e8ca1ff53e4"
      },
      "outputs": [],
      "source": [
        "words = ['movie', 'book', 'mysterious', 'story', 'fascinating', 'good', 'interesting', 'large', 'massive', 'huge', \"woman\",\"man\",\"he\",\"she\",'july',\n",
        " 'december',\n",
        " 'february',\n",
        " 'november',\n",
        " 'october',\n",
        " 'january',\n",
        " 'april',\n",
        " 'june']\n"
      ]
    },
    {
      "cell_type": "code",
      "execution_count": null,
      "id": "ff20e1e9-4d6b-45cb-b5ea-908ce23fc55e",
      "metadata": {
        "id": "ff20e1e9-4d6b-45cb-b5ea-908ce23fc55e",
        "outputId": "6b714693-8b69-4105-9cb4-007268507afe"
      },
      "outputs": [
        {
          "data": {
            "image/png": "[encoded data removed]",
            "text/plain": [
              "<Figure size 640x480 with 1 Axes>"
            ]
          },
          "metadata": {},
          "output_type": "display_data"
        }
      ],
      "source": []
    },
    {
      "cell_type": "markdown",
      "id": "6f295ebf-9f84-430d-b422-9fa7cbe86b1b",
      "metadata": {
        "id": "6f295ebf-9f84-430d-b422-9fa7cbe86b1b"
      },
      "source": [
        "### Nearest neighbors\n",
        "\n",
        "\n",
        "Now that we have word vectors, we need a way to quantify the similarity between individual words, according to these vectors. One such metric is cosine-similarity. We will be using this to find words that are \"close\" and \"far\" from one another.\n",
        "\n",
        "We can think of n-dimensional vectors as points in n-dimensional space. If we take this perspective [L1](http://mathworld.wolfram.com/L1-Norm.html) and [L2](http://mathworld.wolfram.com/L2-Norm.html) Distances help quantify the amount of space \"we must travel\" to get between these two points. Another approach is to examine the angle between two vectors. From trigonometry we know that:\n",
        "\n",
        "\n",
        "\n",
        "Instead of computing the actual angle, we can leave the similarity in terms of similarity $s = \\cos(\\Theta)$. Formally the [Cosine Similarity](https://en.wikipedia.org/wiki/Cosine_similarity) $s$ between two vectors $p$ and $q$ is defined as:\n",
        "\n",
        "$$s = \\frac{p \\cdot q}{||p|| \\cdot ||q||}, \\textrm{ where } s \\in [-1, 1] $$\n",
        "\n",
        "\n",
        "Compute the 10 nearest neighbors of the words from the above `words` list"
      ]
    },
    {
      "cell_type": "code",
      "execution_count": null,
      "id": "abf6d259-6cce-4ef6-80d1-8ae95fd07532",
      "metadata": {
        "scrolled": true,
        "id": "abf6d259-6cce-4ef6-80d1-8ae95fd07532",
        "outputId": "e5ce31e7-b67e-4e6d-aff8-409ebca7e092"
      },
      "outputs": [
        {
          "name": "stdout",
          "output_type": "stream",
          "text": [
            "['movie', 'film', 'movies', 'films', 'moive', 'Movie', 'horror_flick', 'sequel', 'Guy_Ritchie_Revolver', 'romantic_comedy']\n",
            "['book', 'tome', 'books', 'memoir', 'paperback_edition', 'autobiography', 'memoirs', 'Book', 'paperback', 'novels']\n",
            "['mysterious', 'Mysterious', 'enigmatic', 'mystery', 'sinister', 'mystical', 'strange', 'shadowy', 'ghostly', 'unexplained']\n",
            "['story', 'stories', 'tale', 'Associated_PressComment', 'fable', 'tales', 'retelling', 'narrative', 'Story', 'backstory']\n",
            "['fascinating', 'interesting', 'intriguing', 'enlightening', 'captivating', 'facinating', 'riveting', 'instructive', 'endlessly_fascinating', 'revelatory']\n",
            "['good', 'great', 'bad', 'terrific', 'decent', 'nice', 'excellent', 'fantastic', 'better', 'solid']\n",
            "['interesting', 'intriguing', 'fascinating', 'exciting', 'Interesting', 'intersting', 'instructive', 'intruiging', 'amusing', 'enlightening']\n",
            "['large', 'sizeable', 'small', 'sizable', 'Large', 'huge', 'larger', 'massive', 'smaller', 'substantial']\n",
            "['massive', 'huge', 'colossal', 'gigantic', 'mammoth', 'Massive', 'enormous', 'gargantuan', 'large', 'MASSIVE']\n",
            "['huge', 'enormous', 'big', 'massive', 'tremendous', 'gigantic', 'immense', 'colossal', 'sizeable', 'Huge']\n",
            "['woman', 'man', 'girl', 'teenage_girl', 'teenager', 'lady', 'teenaged_girl', 'mother', 'policewoman', 'boy']\n",
            "['man', 'woman', 'boy', 'teenager', 'teenage_girl', 'girl', 'suspected_purse_snatcher', 'robber', 'Robbery_suspect', 'teen_ager']\n",
            "['he', 'He', 'him', 'his', 'she', 'himself', 'nobody', 'I', 'it', 'never']\n",
            "['she', 'her', 'She', 'herself', 'hers', 'he', 'woman', 'Rivadineira', 'Jana_Bobek', 'mother']\n",
            "['july', 'september', 'feb', 'december', 'february', 'november', 'october', 'january', 'april', 'june']\n",
            "['december', 'september', 'april', 'october', 'february', 'july', 'november', 'january', 'june', 'feb']\n",
            "['february', 'january', 'april', 'september', 'december', 'july', 'october', 'november', 'june', 'feb']\n",
            "['november', 'september', 'april', 'january', 'december', 'october', 'july', 'june', 'february', 'feb']\n",
            "['october', 'september', 'april', 'december', 'november', 'july', 'february', 'january', 'feb', 'june']\n",
            "['january', 'february', 'september', 'november', 'april', 'december', 'july', 'october', 'feb', 'june']\n",
            "['april', 'october', 'december', 'february', 'november', 'september', 'january', 'june', 'july', 'feb']\n",
            "['june', 'september', 'april', 'november', 'july', 'february', 'december', 'october', 'feb', 'january']\n"
          ]
        }
      ],
      "source": []
    },
    {
      "cell_type": "markdown",
      "id": "f9ef2c81-b23e-46bd-87a0-0c8b170d4fe9",
      "metadata": {
        "id": "f9ef2c81-b23e-46bd-87a0-0c8b170d4fe9"
      },
      "source": [
        "#### Bias\n",
        "\n",
        "What word appears in the top-10 closest to \"woman\" and \"she\"? Compare to \"man\" and \"he\"."
      ]
    },
    {
      "cell_type": "markdown",
      "id": "28466d80-e833-4770-85b7-06bc122b4ca4",
      "metadata": {
        "id": "28466d80-e833-4770-85b7-06bc122b4ca4"
      },
      "source": [
        "### Analogies\n",
        "\n",
        "#### Semantic analogies\n",
        "Word vectors have been shown to *sometimes* exhibit the ability to solve analogies.\n",
        "\n",
        "As an example, for the analogy \"man : grandfather :: woman : t\" (read: man is to grandfather as woman is to t), what is t?\n",
        "\n",
        "noting analogies $x:y :: z:t$ ($x$ is to $y$ as $z$ is to?) solve the following analogies using:\n",
        "$$\\max_{t\\in V} \\cos(t, y-x+z)$$\n",
        "\n",
        "You'll see that it does not work perfectly. Instead of keep only the very $\\max_{t\\in V}$, keep the top 5 (like in the nearest neighbors above)\n",
        "\n",
        "What's the difference between the first analogies `[(\"France\", \"Paris\", \"Germany\"), (\"France\", \"Sarkozy\", \"Germany\")]` and the others?\n",
        "\n",
        "Try your own examples"
      ]
    },
    {
      "cell_type": "code",
      "execution_count": null,
      "id": "2de3b625-743b-4005-b6ee-b9a8ebb30b18",
      "metadata": {
        "id": "2de3b625-743b-4005-b6ee-b9a8ebb30b18",
        "outputId": "93237593-8797-4a2c-94b3-6d1f5c6de511"
      },
      "outputs": [
        {
          "name": "stdout",
          "output_type": "stream",
          "text": [
            "France:Paris :: Germany:['Berlin', 'Frankfurt', 'Dusseldorf', 'Paris', 'Munich']\n",
            "France:Sarkozy :: Germany:['Sarkozy', 'Merkel', 'Chancellor_Angela_Merkel', 'Schröder', 'Chirac']\n",
            "France:French :: Germany:['German', 'Germany', 'Austrian', 'Dutch', 'Germans']\n",
            "dog:puppy :: cat:['cat', 'puppy', 'kitten', 'puppies', 'pup']\n",
            "man:grandfather :: woman:['grandfather', 'grandmother', 'granddaughter', 'mother', 'aunt']\n",
            "man:king :: woman:['king', 'queen', 'monarch', 'princess', 'crown_prince']\n",
            "apple:tree :: grape:['tree', 'grape', 'trees', 'vines', 'vine']\n"
          ]
        }
      ],
      "source": [
        "for x, y, z in [(\"France\", \"Paris\", \"Germany\"), (\"France\", \"Sarkozy\", \"Germany\"), (\"France\", \"French\", \"Germany\"), (\"dog\",\"puppy\",\"cat\"), (\"man\", \"grandfather\", \"woman\"), (\"man\", \"king\", \"woman\"), (\"apple\", \"tree\", \"grape\")]:\n",
        "    raise NotImplementedError(\"TODO\")"
      ]
    },
    {
      "cell_type": "markdown",
      "id": "a2a47f28-a201-4f43-b1d3-9f2cc58bd317",
      "metadata": {
        "id": "a2a47f28-a201-4f43-b1d3-9f2cc58bd317"
      },
      "source": [
        "#### Biases\n",
        "\n",
        "It's important to be cognizant of the biases (gender, race, sexual orientation etc.) implicit in our word embeddings. Bias can be dangerous because it can reinforce stereotypes through applications that employ these models.\n",
        "\n",
        "Using the same code as above, notice how \"gynecologist\" is top-2 of \"man is to doctor as woman is to?\" and \"nurse\" is 3\n",
        "\n",
        "Why is that? Try to find other problematic analogies/biases in the embeddings"
      ]
    },
    {
      "cell_type": "code",
      "execution_count": null,
      "id": "9a3aaad1-c235-4cc2-9ec7-9cfc893f5a04",
      "metadata": {
        "id": "9a3aaad1-c235-4cc2-9ec7-9cfc893f5a04",
        "outputId": "f5151059-fd5f-493e-9e04-6dfa04c2d08b"
      },
      "outputs": [
        {
          "name": "stdout",
          "output_type": "stream",
          "text": [
            "man:doctor :: woman:['doctor', 'gynecologist', 'nurse', 'physician', 'doctors']\n"
          ]
        }
      ],
      "source": [
        "for x, y, z in [(\"man\", \"doctor\", \"woman\")]:"
      ]
    },
    {
      "cell_type": "markdown",
      "id": "80750522-f9be-4f34-a9eb-b509d74b1843",
      "metadata": {
        "id": "80750522-f9be-4f34-a9eb-b509d74b1843"
      },
      "source": [
        "### Syntactic analogies\n",
        "\n",
        "Word embeddings capture both semantic and syntactic analogies! Use the same code as above but for the following word list.\n",
        "\n",
        "Notice how it works even with irregular verbs like \"eat\"\n",
        "\n",
        "\n",
        "Try your own examples"
      ]
    },
    {
      "cell_type": "code",
      "execution_count": null,
      "id": "0fd6d71d-59b1-48b6-9cd4-ac53ae1656e8",
      "metadata": {
        "id": "0fd6d71d-59b1-48b6-9cd4-ac53ae1656e8",
        "outputId": "9337cff8-e4fa-440e-d936-3ad7cd046cca"
      },
      "outputs": [
        {
          "name": "stdout",
          "output_type": "stream",
          "text": [
            "speak:speaker :: sing:['speaker', 'sing', 'singing', 'sang', 'singers']\n",
            "short:shortly :: rapid:['shortly', 'rapid', 'Shortly', 'rapidly', 'Immediately']\n",
            "like:unlike :: able:['able', 'unable', 'unlike', 'managed', 'allowed']\n",
            "walking:walked :: work:['work', 'worked', 'walked', 'hustled', 'went']\n",
            "walking:walked :: eating:['ate', 'eating', 'eat', 'eaten', 'wolfing_down']\n",
            "walking:walked :: going:['going', 'went', 'got', 'walked', 'came']\n",
            "shoe:shoes :: table:['table', 'tables', 'Tables', 'ConocoPhillips_BPAmerica', 'linen_napkins']\n"
          ]
        }
      ],
      "source": [
        "for x, y, z in [\n",
        "    # derivational morphology: suffixation\n",
        "    (\"speak\", \"speaker\", \"sing\"),\n",
        "    (\"short\", \"shortly\", \"rapid\"),\n",
        "    # derivational morphology: prefixation\n",
        "    (\"like\", \"unlike\", \"able\"),\n",
        "    # inflectional morphology: verbs\n",
        "    (\"walking\", \"walked\", \"work\"),\n",
        "    (\"walking\", \"walked\", \"eating\"),\n",
        "    (\"walking\", \"walked\", \"going\"),\n",
        "    # inflectional morphology: nouns\n",
        "    (\"shoe\", \"shoes\", \"table\"),\n",
        "]:"
      ]
    },
    {
      "cell_type": "markdown",
      "id": "22f512dc-9736-4fbc-a968-c6790e20f694",
      "metadata": {
        "id": "22f512dc-9736-4fbc-a968-c6790e20f694"
      },
      "source": [
        "## Quantitative evaluation using academic benchmarks"
      ]
    },
    {
      "cell_type": "markdown",
      "id": "7322ae0f-5700-4d03-8ade-67deafca6b5b",
      "metadata": {
        "id": "7322ae0f-5700-4d03-8ade-67deafca6b5b"
      },
      "source": [
        "### Correlation of similarity with human judgements"
      ]
    },
    {
      "cell_type": "markdown",
      "id": "03bae410-597f-48ae-b29f-2161c52a7c93",
      "metadata": {
        "id": "03bae410-597f-48ae-b29f-2161c52a7c93"
      },
      "source": [
        "#### data"
      ]
    },
    {
      "cell_type": "code",
      "execution_count": null,
      "id": "3da2d60b-d118-473b-aa76-22d170b4714a",
      "metadata": {
        "id": "3da2d60b-d118-473b-aa76-22d170b4714a",
        "outputId": "1abe574e-820c-4f19-eaec-aff346ec8762"
      },
      "outputs": [
        {
          "name": "stdout",
          "output_type": "stream",
          "text": [
            "--2024-09-13 15:13:10--  https://staff.fnwi.uva.nl/e.bruni/resources/MEN.zip\n",
            "Resolving staff.fnwi.uva.nl (staff.fnwi.uva.nl)... 146.50.97.212\n",
            "Connecting to staff.fnwi.uva.nl (staff.fnwi.uva.nl)|146.50.97.212|:443... connected.\n",
            "HTTP request sent, awaiting response... 200 OK\n",
            "Length: 96854 (95K) [application/zip]\n",
            "Saving to: 'MEN.zip'\n",
            "\n",
            "MEN.zip             100%[===================>]  94.58K  --.-KB/s    in 0.04s   \n",
            "\n",
            "2024-09-13 15:13:10 (2.25 MB/s) - 'MEN.zip' saved [96854/96854]\n",
            "\n"
          ]
        }
      ],
      "source": [
        "!wget https://staff.fnwi.uva.nl/e.bruni/resources/MEN.zip"
      ]
    },
    {
      "cell_type": "code",
      "execution_count": null,
      "id": "f05e3d93-e468-44e5-9fa4-ce504037c02a",
      "metadata": {
        "id": "f05e3d93-e468-44e5-9fa4-ce504037c02a",
        "outputId": "3813d2fa-f7d2-4509-e427-e48a4f4c8335"
      },
      "outputs": [
        {
          "name": "stdout",
          "output_type": "stream",
          "text": [
            "Archive:  MEN.zip\n",
            "   creating: MEN/\n",
            "  inflating: MEN/licence.txt         \n",
            "  inflating: MEN/.DS_Store           \n",
            "   creating: MEN/agreement/\n",
            "  inflating: MEN/agreement/elias-men-ratings.txt  \n",
            "  inflating: MEN/agreement/agreement-score.txt  \n",
            "  inflating: MEN/agreement/marcos-men-ratings.txt  \n",
            "  inflating: MEN/instructions.txt    \n",
            "  inflating: MEN/MEN_dataset_lemma_form.test  \n",
            "  inflating: MEN/MEN_dataset_lemma_form.dev  \n",
            "  inflating: MEN/MEN_dataset_lemma_form_full  \n",
            "  inflating: MEN/MEN_dataset_natural_form_full  \n"
          ]
        }
      ],
      "source": [
        "!unzip MEN"
      ]
    },
    {
      "cell_type": "code",
      "execution_count": null,
      "id": "34be9d7b-16ad-4868-9a37-6b86091259c8",
      "metadata": {
        "id": "34be9d7b-16ad-4868-9a37-6b86091259c8"
      },
      "outputs": [],
      "source": [
        "import pandas as pd"
      ]
    },
    {
      "cell_type": "code",
      "execution_count": null,
      "id": "a35fc6ab-4fdb-407f-96d9-903041668cab",
      "metadata": {
        "id": "a35fc6ab-4fdb-407f-96d9-903041668cab"
      },
      "outputs": [],
      "source": [
        "dataset = pd.read_csv(\"MEN/MEN_dataset_natural_form_full\", delimiter=\" \",names=[\"a\",\"b\",\"label\"])"
      ]
    },
    {
      "cell_type": "code",
      "execution_count": null,
      "id": "a0cc80ed-cdfe-4781-a0e6-c5e8f77e3fdd",
      "metadata": {
        "id": "a0cc80ed-cdfe-4781-a0e6-c5e8f77e3fdd",
        "outputId": "02c28f72-882c-465a-ef08-6a700daf6a94"
      },
      "outputs": [
        {
          "data": {
            "text/html": [
              "<div>\n",
              "<style scoped>\n",
              "    .dataframe tbody tr th:only-of-type {\n",
              "        vertical-align: middle;\n",
              "    }\n",
              "\n",
              "    .dataframe tbody tr th {\n",
              "        vertical-align: top;\n",
              "    }\n",
              "\n",
              "    .dataframe thead th {\n",
              "        text-align: right;\n",
              "    }\n",
              "</style>\n",
              "<table border=\"1\" class=\"dataframe\">\n",
              "  <thead>\n",
              "    <tr style=\"text-align: right;\">\n",
              "      <th></th>\n",
              "      <th>a</th>\n",
              "      <th>b</th>\n",
              "      <th>label</th>\n",
              "    </tr>\n",
              "  </thead>\n",
              "  <tbody>\n",
              "    <tr>\n",
              "      <th>0</th>\n",
              "      <td>sun</td>\n",
              "      <td>sunlight</td>\n",
              "      <td>50.0</td>\n",
              "    </tr>\n",
              "    <tr>\n",
              "      <th>1</th>\n",
              "      <td>automobile</td>\n",
              "      <td>car</td>\n",
              "      <td>50.0</td>\n",
              "    </tr>\n",
              "    <tr>\n",
              "      <th>2</th>\n",
              "      <td>river</td>\n",
              "      <td>water</td>\n",
              "      <td>49.0</td>\n",
              "    </tr>\n",
              "    <tr>\n",
              "      <th>3</th>\n",
              "      <td>stairs</td>\n",
              "      <td>staircase</td>\n",
              "      <td>49.0</td>\n",
              "    </tr>\n",
              "    <tr>\n",
              "      <th>4</th>\n",
              "      <td>morning</td>\n",
              "      <td>sunrise</td>\n",
              "      <td>49.0</td>\n",
              "    </tr>\n",
              "    <tr>\n",
              "      <th>...</th>\n",
              "      <td>...</td>\n",
              "      <td>...</td>\n",
              "      <td>...</td>\n",
              "    </tr>\n",
              "    <tr>\n",
              "      <th>2995</th>\n",
              "      <td>feathers</td>\n",
              "      <td>truck</td>\n",
              "      <td>1.0</td>\n",
              "    </tr>\n",
              "    <tr>\n",
              "      <th>2996</th>\n",
              "      <td>festival</td>\n",
              "      <td>whiskers</td>\n",
              "      <td>1.0</td>\n",
              "    </tr>\n",
              "    <tr>\n",
              "      <th>2997</th>\n",
              "      <td>muscle</td>\n",
              "      <td>tulip</td>\n",
              "      <td>1.0</td>\n",
              "    </tr>\n",
              "    <tr>\n",
              "      <th>2998</th>\n",
              "      <td>bikini</td>\n",
              "      <td>pizza</td>\n",
              "      <td>1.0</td>\n",
              "    </tr>\n",
              "    <tr>\n",
              "      <th>2999</th>\n",
              "      <td>bakery</td>\n",
              "      <td>zebra</td>\n",
              "      <td>0.0</td>\n",
              "    </tr>\n",
              "  </tbody>\n",
              "</table>\n",
              "<p>3000 rows × 3 columns</p>\n",
              "</div>"
            ],
            "text/plain": [
              "               a          b  label\n",
              "0            sun   sunlight   50.0\n",
              "1     automobile        car   50.0\n",
              "2          river      water   49.0\n",
              "3         stairs  staircase   49.0\n",
              "4        morning    sunrise   49.0\n",
              "...          ...        ...    ...\n",
              "2995    feathers      truck    1.0\n",
              "2996    festival   whiskers    1.0\n",
              "2997      muscle      tulip    1.0\n",
              "2998      bikini      pizza    1.0\n",
              "2999      bakery      zebra    0.0\n",
              "\n",
              "[3000 rows x 3 columns]"
            ]
          },
          "execution_count": 152,
          "metadata": {},
          "output_type": "execute_result"
        }
      ],
      "source": [
        "dataset"
      ]
    },
    {
      "cell_type": "markdown",
      "id": "7c2deff8-ca8f-4984-a4ca-c248e5c0abfd",
      "metadata": {
        "id": "7c2deff8-ca8f-4984-a4ca-c248e5c0abfd"
      },
      "source": [
        "#### evaluation\n",
        "\n",
        "Compute the cosine similarity of words `a` and `b` for all words in the dataset, except (of course), those that are absent from our `vocabulary`.\n",
        "\n",
        "Compute Spearmann correlation between the cosine similarity you computed and the label, using `scipy.stats.spearmanr`"
      ]
    },
    {
      "cell_type": "code",
      "execution_count": null,
      "id": "b804ea50-9cd1-4157-964d-5a7e16997d3b",
      "metadata": {
        "id": "b804ea50-9cd1-4157-964d-5a7e16997d3b"
      },
      "outputs": [],
      "source": [
        "import scipy"
      ]
    },
    {
      "cell_type": "code",
      "execution_count": null,
      "id": "ab48459f-15c0-44c0-bd85-576fb30e3507",
      "metadata": {
        "id": "ab48459f-15c0-44c0-bd85-576fb30e3507",
        "outputId": "d1469958-f01d-4f81-8bc0-e6db1ea4a17e"
      },
      "outputs": [
        {
          "data": {
            "text/plain": [
              "SignificanceResult(statistic=0.7819958890602363, pvalue=0.0)"
            ]
          },
          "execution_count": 170,
          "metadata": {},
          "output_type": "execute_result"
        }
      ],
      "source": []
    },
    {
      "cell_type": "markdown",
      "id": "49ce8355-4573-4243-b029-3e4aa3c18e9d",
      "metadata": {
        "id": "49ce8355-4573-4243-b029-3e4aa3c18e9d"
      },
      "source": [
        "Compare this value to what is reported in Levy, O., & Goldberg, Y. (2014). Neural Word Embedding as Implicit Matrix Factorization. Advances in Neural Information Processing Systems, 27. https://proceedings.neurips.cc/paper/2014/hash/feab05aa91085b7a8012516bc3533958-Abstract.html\n"
      ]
    },
    {
      "cell_type": "markdown",
      "id": "0c18cc10-b070-42b7-9e00-8cb6691a21e6",
      "metadata": {
        "id": "0c18cc10-b070-42b7-9e00-8cb6691a21e6"
      },
      "source": [
        "Inspect this correlation visually: plot the cosine similarities against the labels"
      ]
    },
    {
      "cell_type": "code",
      "execution_count": null,
      "id": "9c79789d-cd96-4afd-88db-ea9ffaa87002",
      "metadata": {
        "id": "9c79789d-cd96-4afd-88db-ea9ffaa87002",
        "outputId": "5bfcb8e0-9e81-4572-f15e-f5af39851e15"
      },
      "outputs": [
        {
          "data": {
            "text/plain": [
              "<matplotlib.collections.PathCollection at 0x76da58e52470>"
            ]
          },
          "execution_count": 65,
          "metadata": {},
          "output_type": "execute_result"
        },
        {
          "data": {
            "image/png": "[encoded data removed]",
            "text/plain": [
              "<Figure size 640x480 with 1 Axes>"
            ]
          },
          "metadata": {},
          "output_type": "display_data"
        }
      ],
      "source": []
    },
    {
      "cell_type": "markdown",
      "id": "d41b3744-f087-434b-9e1b-4a1c4fb7dc7d",
      "metadata": {
        "id": "d41b3744-f087-434b-9e1b-4a1c4fb7dc7d"
      },
      "source": [
        "### Accuracy of analogies"
      ]
    },
    {
      "cell_type": "markdown",
      "id": "02032f2f-84e5-4721-a505-5be9f695a695",
      "metadata": {
        "id": "02032f2f-84e5-4721-a505-5be9f695a695"
      },
      "source": [
        "#### Data"
      ]
    },
    {
      "cell_type": "code",
      "execution_count": null,
      "id": "cb355f49-50c2-4677-974f-cb564abaf136",
      "metadata": {
        "id": "cb355f49-50c2-4677-974f-cb564abaf136",
        "outputId": "ee1d8db6-4cb7-4a16-9669-754bb08de694"
      },
      "outputs": [
        {
          "name": "stdout",
          "output_type": "stream",
          "text": [
            "--2024-09-13 15:34:35--  https://www.fit.vut.cz/person/imikolov/public/rnnlm/word-test.v1.txt\n",
            "Resolving www.fit.vut.cz (www.fit.vut.cz)... 147.229.9.65, 2001:67c:1220:809::93e5:941\n",
            "Connecting to www.fit.vut.cz (www.fit.vut.cz)|147.229.9.65|:443... connected.\n",
            "HTTP request sent, awaiting response... 200 OK\n",
            "Length: 609126 (595K) [text/plain]\n",
            "Saving to: 'word-test.v1.txt'\n",
            "\n",
            "word-test.v1.txt    100%[===================>] 594.85K  2.58MB/s    in 0.2s    \n",
            "\n",
            "2024-09-13 15:34:35 (2.58 MB/s) - 'word-test.v1.txt' saved [609126/609126]\n",
            "\n"
          ]
        }
      ],
      "source": [
        "!wget https://www.fit.vut.cz/person/imikolov/public/rnnlm/word-test.v1.txt"
      ]
    },
    {
      "cell_type": "code",
      "execution_count": null,
      "id": "c2dfc2bc-effd-4006-815d-b335f6a51fc3",
      "metadata": {
        "id": "c2dfc2bc-effd-4006-815d-b335f6a51fc3"
      },
      "outputs": [],
      "source": [
        "with open(\"word-test.v1.txt\",\"rt\") as file:\n",
        "    lines = file.read().strip().split(\"\\n\")"
      ]
    },
    {
      "cell_type": "code",
      "execution_count": null,
      "id": "fd53dac4-395f-472b-8f29-41d680246494",
      "metadata": {
        "id": "fd53dac4-395f-472b-8f29-41d680246494",
        "outputId": "60c75452-5ca1-4326-efe4-16d662864394"
      },
      "outputs": [
        {
          "data": {
            "text/plain": [
              "'// Copyright 2013 Google Inc. All Rights Reserved.'"
            ]
          },
          "execution_count": 178,
          "metadata": {},
          "output_type": "execute_result"
        }
      ],
      "source": [
        "lines.pop(0)"
      ]
    },
    {
      "cell_type": "code",
      "execution_count": null,
      "id": "63ef77fb-1e3a-4c52-9b75-e2d6efe19295",
      "metadata": {
        "id": "63ef77fb-1e3a-4c52-9b75-e2d6efe19295"
      },
      "outputs": [],
      "source": [
        "dataset = []\n",
        "subset_ok=False\n",
        "for i, line in enumerate(lines):\n",
        "    # We keep a single subset to save computation time.\n",
        "    # As a bonus, compute the results on the entire dataset, or for each subset\n",
        "    if line[0]==\":\":\n",
        "        if line ==\": family\":\n",
        "            subset_ok=True\n",
        "        if line == \": gram1-adjective-to-adverb\":\n",
        "            break\n",
        "        continue\n",
        "    if subset_ok:\n",
        "        x,y,z,t = line.split(\" \")\n",
        "        ok = True\n",
        "        for token in [x,y,z,t]:\n",
        "            if token not in vocabulary:\n",
        "                ok = False\n",
        "                break\n",
        "        if ok:\n",
        "            dataset.append((x,y,z,t))"
      ]
    },
    {
      "cell_type": "code",
      "execution_count": null,
      "id": "692b534a-3dc7-4176-8129-38d7ce4ba865",
      "metadata": {
        "id": "692b534a-3dc7-4176-8129-38d7ce4ba865",
        "outputId": "9fcd8ade-bbe2-4259-9064-8f78b45f71a1"
      },
      "outputs": [
        {
          "data": {
            "text/plain": [
              "506"
            ]
          },
          "execution_count": 211,
          "metadata": {},
          "output_type": "execute_result"
        }
      ],
      "source": [
        "len(dataset)"
      ]
    },
    {
      "cell_type": "code",
      "execution_count": null,
      "id": "60e9df5f-5afc-4ba6-9653-c99e1257be83",
      "metadata": {
        "id": "60e9df5f-5afc-4ba6-9653-c99e1257be83",
        "outputId": "de4221f6-a13c-4a55-a766-5dfb27d68e1b"
      },
      "outputs": [
        {
          "name": "stdout",
          "output_type": "stream",
          "text": [
            "stepfather:stepmother :: father:mother\n",
            "brothers:sisters :: prince:princess\n",
            "stepson:stepdaughter :: stepfather:stepmother\n",
            "nephew:niece :: he:she\n",
            "sons:daughters :: uncle:aunt\n",
            "king:queen :: uncle:aunt\n",
            "sons:daughters :: nephew:niece\n",
            "dad:mom :: policeman:policewoman\n",
            "father:mother :: grandson:granddaughter\n",
            "grandson:granddaughter :: sons:daughters\n"
          ]
        }
      ],
      "source": [
        "for i in np.random.choice(len(dataset), 10):\n",
        "    x, y, z, t = dataset[i]\n",
        "    print(f\"{x}:{y} :: {z}:{t}\")"
      ]
    },
    {
      "cell_type": "markdown",
      "id": "0b9bae76-2cf4-46c3-8a1a-4fbbb6eda643",
      "metadata": {
        "id": "0b9bae76-2cf4-46c3-8a1a-4fbbb6eda643"
      },
      "source": [
        "#### evaluation\n",
        "\n",
        "Using the same code as above, solve the analogy for $x:y :: z:t$ ($x$ is to $y$ as $z$ is to?) using:\n",
        "$$\\max_{t\\in V} \\cos(t, y-x+z)$$\n",
        "\n",
        "For all samples of the dataset\n",
        "\n",
        "Compute the accuracy (check that you retrieve the correct $t$)"
      ]
    },
    {
      "cell_type": "code",
      "execution_count": null,
      "id": "18c75629-c99c-4378-abec-c4715924c77b",
      "metadata": {
        "id": "18c75629-c99c-4378-abec-c4715924c77b",
        "outputId": "2cd60140-69be-43ec-efd1-a094fc533ba1"
      },
      "outputs": [
        {
          "data": {
            "text/plain": [
              "0.34980237154150196"
            ]
          },
          "execution_count": 215,
          "metadata": {},
          "output_type": "execute_result"
        }
      ],
      "source": [
        "accuracy"
      ]
    },
    {
      "cell_type": "markdown",
      "id": "abacf865-384d-4ee2-a5a7-8a9a0bbf50b2",
      "metadata": {
        "id": "abacf865-384d-4ee2-a5a7-8a9a0bbf50b2"
      },
      "source": [
        "Compare this value to what is reported in Mikolov, T., Chen, K., Corrado, G., & Dean, J. (2013). Efficient Estimation of Word Representations in Vector Space (arXiv:1301.3781). arXiv. https://doi.org/10.48550/arXiv.1301.3781\n",
        "\n",
        "Remember we used only the \"family\" subset, not all semantic analogies.\n"
      ]
    },
    {
      "cell_type": "markdown",
      "id": "cdf2831d-a3aa-4bb8-8cdf-257e867a4490",
      "metadata": {
        "jp-MarkdownHeadingCollapsed": true,
        "id": "cdf2831d-a3aa-4bb8-8cdf-257e867a4490"
      },
      "source": [
        "# Bonus Part\n",
        "\n",
        "- Try different hyperparameters in Part. 1:\n",
        "  - Vocabulary size $V$\n",
        "  - `window_size`\n",
        "  - Number of negative examples $k$\n",
        "  - embedding dimension $d$\n",
        "\n",
        "- Try other models than Skipgram in Part. 2:\n",
        "  - [fastText](https://fasttext.cc/docs/en/english-vectors.html)\n",
        "  - [GloVe](https://nlp.stanford.edu/projects/glove/) (also available via `gensim` used above)\n",
        "  - CBOW"
      ]
    }
  ],
  "metadata": {
    "kernelspec": {
      "display_name": "Python 3 (ipykernel)",
      "language": "python",
      "name": "python3"
    },
    "language_info": {
      "codemirror_mode": {
        "name": "ipython",
        "version": 3
      },
      "file_extension": ".py",
      "mimetype": "text/x-python",
      "name": "python",
      "nbconvert_exporter": "python",
      "pygments_lexer": "ipython3",
      "version": "3.10.15"
    },
    "colab": {
      "provenance": []
    }
  },
  "nbformat": 4,
  "nbformat_minor": 5
}